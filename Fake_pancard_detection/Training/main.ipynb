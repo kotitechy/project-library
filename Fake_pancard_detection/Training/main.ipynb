{
 "cells": [
  {
   "cell_type": "code",
   "execution_count": 2,
   "id": "6e4cfe08",
   "metadata": {},
   "outputs": [],
   "source": [
    "import torch\n",
    "import torch.nn as nn\n",
    "import torch.optim as optim\n",
    "from torchvision import datasets, transforms, models\n",
    "from torch.utils.data import DataLoader\n",
    "import os\n"
   ]
  },
  {
   "cell_type": "code",
   "execution_count": 3,
   "id": "5af1504f",
   "metadata": {},
   "outputs": [
    {
     "name": "stdout",
     "output_type": "stream",
     "text": [
      "Using device: cuda\n"
     ]
    }
   ],
   "source": [
    "device = torch.device('cuda' if torch.cuda.is_available() else 'cpu')\n",
    "print(\"Using device:\", device)\n"
   ]
  },
  {
   "cell_type": "code",
   "execution_count": 5,
   "id": "f71fa4cc",
   "metadata": {},
   "outputs": [],
   "source": [
    "# Image transforms\n",
    "transform = transforms.Compose([\n",
    "    transforms.Resize((224, 224)),\n",
    "    transforms.ToTensor(),\n",
    "    transforms.Normalize(mean=[0.5, 0.5, 0.5], std=[0.5, 0.5, 0.5])\n",
    "])\n",
    "\n",
    "# Dataset and DataLoader\n",
    "train_dataset = datasets.ImageFolder(root='train', transform=transform)\n",
    "train_loader = DataLoader(train_dataset, batch_size=32, shuffle=True)\n"
   ]
  },
  {
   "cell_type": "code",
   "execution_count": 6,
   "id": "00abf86e",
   "metadata": {},
   "outputs": [
    {
     "name": "stderr",
     "output_type": "stream",
     "text": [
      "c:\\Users\\shiva\\AppData\\Local\\Programs\\Python\\Python310\\lib\\site-packages\\torchvision\\models\\_utils.py:208: UserWarning: The parameter 'pretrained' is deprecated since 0.13 and may be removed in the future, please use 'weights' instead.\n",
      "  warnings.warn(\n",
      "c:\\Users\\shiva\\AppData\\Local\\Programs\\Python\\Python310\\lib\\site-packages\\torchvision\\models\\_utils.py:223: UserWarning: Arguments other than a weight enum or `None` for 'weights' are deprecated since 0.13 and may be removed in the future. The current behavior is equivalent to passing `weights=ResNet18_Weights.IMAGENET1K_V1`. You can also use `weights=ResNet18_Weights.DEFAULT` to get the most up-to-date weights.\n",
      "  warnings.warn(msg)\n"
     ]
    }
   ],
   "source": [
    "# Option 1: Use a pretrained ResNet18 model\n",
    "model = models.resnet18(pretrained=True)\n",
    "model.fc = nn.Linear(model.fc.in_features, 1)  # Binary classification\n",
    "model = model.to(device)\n"
   ]
  },
  {
   "cell_type": "code",
   "execution_count": 7,
   "id": "a35628fc",
   "metadata": {},
   "outputs": [],
   "source": [
    "criterion = nn.BCEWithLogitsLoss()  # For binary classification\n",
    "optimizer = optim.Adam(model.parameters(), lr=0.001)\n"
   ]
  },
  {
   "cell_type": "code",
   "execution_count": 9,
   "id": "b9617829",
   "metadata": {},
   "outputs": [
    {
     "name": "stdout",
     "output_type": "stream",
     "text": [
      "Epoch 1/10, Loss: 0.2030\n",
      "Epoch 2/10, Loss: 0.1944\n",
      "Epoch 3/10, Loss: 0.1738\n",
      "Epoch 4/10, Loss: 0.1773\n",
      "Epoch 5/10, Loss: 0.1375\n",
      "Epoch 6/10, Loss: 0.1274\n",
      "Epoch 7/10, Loss: 0.1120\n",
      "Epoch 8/10, Loss: 0.1360\n",
      "Epoch 9/10, Loss: 0.1119\n",
      "Epoch 10/10, Loss: 0.1183\n"
     ]
    }
   ],
   "source": [
    "num_epochs = 10\n",
    "\n",
    "for epoch in range(num_epochs):\n",
    "    model.train()\n",
    "    running_loss = 0.0\n",
    "\n",
    "    for inputs, labels in train_loader:\n",
    "        inputs, labels = inputs.to(device), labels.float().unsqueeze(1).to(device)\n",
    "\n",
    "        optimizer.zero_grad()\n",
    "        outputs = model(inputs)\n",
    "        loss = criterion(outputs, labels)\n",
    "        loss.backward()\n",
    "        optimizer.step()\n",
    "\n",
    "        running_loss += loss.item()\n",
    "\n",
    "    print(f\"Epoch {epoch+1}/{num_epochs}, Loss: {running_loss/len(train_loader):.4f}\")\n"
   ]
  },
  {
   "cell_type": "code",
   "execution_count": 10,
   "id": "6e99d301",
   "metadata": {},
   "outputs": [
    {
     "name": "stdout",
     "output_type": "stream",
     "text": [
      "Model saved as cnn_model.pth\n"
     ]
    }
   ],
   "source": [
    "torch.save(model.state_dict(), 'cnn_model.pth')\n",
    "print(\"Model saved as cnn_model.pth\")\n"
   ]
  },
  {
   "cell_type": "code",
   "execution_count": 26,
   "id": "78b9a424",
   "metadata": {},
   "outputs": [],
   "source": [
    "# Save the entire model (including architecture)\n",
    "torch.save(model, 'cnn_model.pth')\n"
   ]
  },
  {
   "cell_type": "code",
   "execution_count": 27,
   "id": "18b403c9",
   "metadata": {},
   "outputs": [],
   "source": [
    "from torch.utils.data import random_split\n",
    "\n",
    "# Split dataset (80% train, 20% val)\n",
    "total_size = len(train_dataset)\n",
    "train_size = int(0.8 * total_size)\n",
    "val_size = total_size - train_size\n",
    "\n",
    "train_data, val_data = random_split(train_dataset, [train_size, val_size])\n",
    "\n",
    "train_loader = DataLoader(train_data, batch_size=32, shuffle=True)\n",
    "val_loader = DataLoader(val_data, batch_size=32, shuffle=False)\n"
   ]
  },
  {
   "cell_type": "code",
   "execution_count": 12,
   "id": "4c6bb47b",
   "metadata": {},
   "outputs": [
    {
     "name": "stdout",
     "output_type": "stream",
     "text": [
      "[Epoch 1] Train Loss: 0.0811\n",
      "Validation - Acc: 0.9220, Precision: 0.7541, Recall: 0.9787, F1: 0.8519\n",
      "[Epoch 2] Train Loss: 0.0681\n",
      "Validation - Acc: 0.9659, Precision: 0.9167, Recall: 0.9362, F1: 0.9263\n",
      "[Epoch 3] Train Loss: 0.0561\n",
      "Validation - Acc: 0.9707, Precision: 0.9184, Recall: 0.9574, F1: 0.9375\n",
      "[Epoch 4] Train Loss: 0.0561\n",
      "Validation - Acc: 0.9659, Precision: 0.9348, Recall: 0.9149, F1: 0.9247\n",
      "[Epoch 5] Train Loss: 0.0518\n",
      "Validation - Acc: 0.9659, Precision: 0.9000, Recall: 0.9574, F1: 0.9278\n",
      "[Epoch 6] Train Loss: 0.0595\n",
      "Validation - Acc: 0.9415, Precision: 0.8182, Recall: 0.9574, F1: 0.8824\n",
      "[Epoch 7] Train Loss: 0.0769\n",
      "Validation - Acc: 0.9415, Precision: 0.8182, Recall: 0.9574, F1: 0.8824\n",
      "[Epoch 8] Train Loss: 0.0939\n",
      "Validation - Acc: 0.9024, Precision: 0.7213, Recall: 0.9362, F1: 0.8148\n",
      "[Epoch 9] Train Loss: 0.1103\n",
      "Validation - Acc: 0.9122, Precision: 0.7736, Recall: 0.8723, F1: 0.8200\n",
      "[Epoch 10] Train Loss: 0.0869\n",
      "Validation - Acc: 0.9366, Precision: 0.8148, Recall: 0.9362, F1: 0.8713\n"
     ]
    }
   ],
   "source": [
    "from sklearn.metrics import accuracy_score, precision_score, recall_score, f1_score\n",
    "\n",
    "for epoch in range(num_epochs):\n",
    "    model.train()\n",
    "    running_loss = 0.0\n",
    "\n",
    "    for inputs, labels in train_loader:\n",
    "        inputs, labels = inputs.to(device), labels.float().unsqueeze(1).to(device)\n",
    "        optimizer.zero_grad()\n",
    "        outputs = model(inputs)\n",
    "        loss = criterion(outputs, labels)\n",
    "        loss.backward()\n",
    "        optimizer.step()\n",
    "        running_loss += loss.item()\n",
    "\n",
    "    print(f\"[Epoch {epoch+1}] Train Loss: {running_loss/len(train_loader):.4f}\")\n",
    "\n",
    "    # Validation\n",
    "    model.eval()\n",
    "    all_preds = []\n",
    "    all_labels = []\n",
    "    with torch.no_grad():\n",
    "        for inputs, labels in val_loader:\n",
    "            inputs = inputs.to(device)\n",
    "            outputs = model(inputs)\n",
    "            preds = torch.sigmoid(outputs).cpu().numpy() > 0.5  # Convert logits to class\n",
    "            all_preds.extend(preds.astype(int).flatten())\n",
    "            all_labels.extend(labels.numpy())\n",
    "\n",
    "    acc = accuracy_score(all_labels, all_preds)\n",
    "    precision = precision_score(all_labels, all_preds)\n",
    "    recall = recall_score(all_labels, all_preds)\n",
    "    f1 = f1_score(all_labels, all_preds)\n",
    "\n",
    "    print(f\"Validation - Acc: {acc:.4f}, Precision: {precision:.4f}, Recall: {recall:.4f}, F1: {f1:.4f}\")\n"
   ]
  },
  {
   "cell_type": "code",
   "execution_count": 28,
   "id": "943e8ce7",
   "metadata": {},
   "outputs": [
    {
     "data": {
      "image/png": "[encoded data removed]",
      "text/plain": [
       "<Figure size 500x400 with 2 Axes>"
      ]
     },
     "metadata": {},
     "output_type": "display_data"
    }
   ],
   "source": [
    "from sklearn.metrics import confusion_matrix\n",
    "import matplotlib.pyplot as plt\n",
    "import seaborn as sns\n",
    "\n",
    "# Final Confusion Matrix\n",
    "cm = confusion_matrix(all_labels, all_preds)\n",
    "plt.figure(figsize=(5,4))\n",
    "sns.heatmap(cm, annot=True, fmt='d', cmap='Blues', xticklabels=['Fake', 'Real'], yticklabels=['Fake', 'Real'])\n",
    "plt.xlabel(\"Predicted\")\n",
    "plt.ylabel(\"Actual\")\n",
    "plt.title(\"Confusion Matrix\")\n",
    "plt.show()\n"
   ]
  },
  {
   "cell_type": "code",
   "execution_count": 29,
   "id": "a7114e28",
   "metadata": {},
   "outputs": [
    {
     "name": "stdout",
     "output_type": "stream",
     "text": [
      "\n",
      "Confusion Matrix (Text Format):\n",
      "True Positives (Real as Real)   | 44\n",
      "False Positives (Fake as Real)  | 10\n",
      "False Negatives (Real as Fake)  | 3\n",
      "True Negatives (Fake as Fake)   | 148\n",
      "\n",
      "Full Confusion Matrix:\n",
      "[[148  10]\n",
      " [  3  44]]\n"
     ]
    }
   ],
   "source": [
    "from sklearn.metrics import confusion_matrix\n",
    "\n",
    "# Assuming all_preds and all_labels are your predictions and true labels\n",
    "cm = confusion_matrix(all_labels, all_preds)\n",
    "\n",
    "# Print confusion matrix in text format\n",
    "print(\"\\nConfusion Matrix (Text Format):\")\n",
    "print(\"True Positives (Real as Real)   |\", cm[1, 1])\n",
    "print(\"False Positives (Fake as Real)  |\", cm[0, 1])\n",
    "print(\"False Negatives (Real as Fake)  |\", cm[1, 0])\n",
    "print(\"True Negatives (Fake as Fake)   |\", cm[0, 0])\n",
    "\n",
    "# Optionally: You can also print the whole matrix like this\n",
    "print(\"\\nFull Confusion Matrix:\")\n",
    "print(cm)\n"
   ]
  },
  {
   "cell_type": "code",
   "execution_count": 30,
   "id": "2940b4e7",
   "metadata": {},
   "outputs": [],
   "source": [
    "import torch\n",
    "import torch.nn as nn\n",
    "from torchvision import models\n",
    "\n",
    "# Define the model architecture (same as during training)\n",
    "class SimpleCNN(nn.Module):\n",
    "    def __init__(self):\n",
    "        super(SimpleCNN, self).__init__()\n",
    "        # Use pre-trained ResNet18\n",
    "        self.model = models.resnet18(pretrained=True)\n",
    "        \n",
    "        # Change the final fully connected layer to match binary classification (real or fake)\n",
    "        self.model.fc = nn.Linear(self.model.fc.in_features, 2)  # 2 classes (real/fake)\n",
    "\n",
    "    def forward(self, x):\n",
    "        return self.model(x)\n"
   ]
  },
  {
   "cell_type": "code",
   "execution_count": 31,
   "id": "264782f5",
   "metadata": {},
   "outputs": [
    {
     "name": "stdout",
     "output_type": "stream",
     "text": [
      "odict_keys(['conv1.weight', 'bn1.weight', 'bn1.bias', 'bn1.running_mean', 'bn1.running_var', 'bn1.num_batches_tracked', 'layer1.0.conv1.weight', 'layer1.0.bn1.weight', 'layer1.0.bn1.bias', 'layer1.0.bn1.running_mean', 'layer1.0.bn1.running_var', 'layer1.0.bn1.num_batches_tracked', 'layer1.0.conv2.weight', 'layer1.0.bn2.weight', 'layer1.0.bn2.bias', 'layer1.0.bn2.running_mean', 'layer1.0.bn2.running_var', 'layer1.0.bn2.num_batches_tracked', 'layer1.1.conv1.weight', 'layer1.1.bn1.weight', 'layer1.1.bn1.bias', 'layer1.1.bn1.running_mean', 'layer1.1.bn1.running_var', 'layer1.1.bn1.num_batches_tracked', 'layer1.1.conv2.weight', 'layer1.1.bn2.weight', 'layer1.1.bn2.bias', 'layer1.1.bn2.running_mean', 'layer1.1.bn2.running_var', 'layer1.1.bn2.num_batches_tracked', 'layer2.0.conv1.weight', 'layer2.0.bn1.weight', 'layer2.0.bn1.bias', 'layer2.0.bn1.running_mean', 'layer2.0.bn1.running_var', 'layer2.0.bn1.num_batches_tracked', 'layer2.0.conv2.weight', 'layer2.0.bn2.weight', 'layer2.0.bn2.bias', 'layer2.0.bn2.running_mean', 'layer2.0.bn2.running_var', 'layer2.0.bn2.num_batches_tracked', 'layer2.0.downsample.0.weight', 'layer2.0.downsample.1.weight', 'layer2.0.downsample.1.bias', 'layer2.0.downsample.1.running_mean', 'layer2.0.downsample.1.running_var', 'layer2.0.downsample.1.num_batches_tracked', 'layer2.1.conv1.weight', 'layer2.1.bn1.weight', 'layer2.1.bn1.bias', 'layer2.1.bn1.running_mean', 'layer2.1.bn1.running_var', 'layer2.1.bn1.num_batches_tracked', 'layer2.1.conv2.weight', 'layer2.1.bn2.weight', 'layer2.1.bn2.bias', 'layer2.1.bn2.running_mean', 'layer2.1.bn2.running_var', 'layer2.1.bn2.num_batches_tracked', 'layer3.0.conv1.weight', 'layer3.0.bn1.weight', 'layer3.0.bn1.bias', 'layer3.0.bn1.running_mean', 'layer3.0.bn1.running_var', 'layer3.0.bn1.num_batches_tracked', 'layer3.0.conv2.weight', 'layer3.0.bn2.weight', 'layer3.0.bn2.bias', 'layer3.0.bn2.running_mean', 'layer3.0.bn2.running_var', 'layer3.0.bn2.num_batches_tracked', 'layer3.0.downsample.0.weight', 'layer3.0.downsample.1.weight', 'layer3.0.downsample.1.bias', 'layer3.0.downsample.1.running_mean', 'layer3.0.downsample.1.running_var', 'layer3.0.downsample.1.num_batches_tracked', 'layer3.1.conv1.weight', 'layer3.1.bn1.weight', 'layer3.1.bn1.bias', 'layer3.1.bn1.running_mean', 'layer3.1.bn1.running_var', 'layer3.1.bn1.num_batches_tracked', 'layer3.1.conv2.weight', 'layer3.1.bn2.weight', 'layer3.1.bn2.bias', 'layer3.1.bn2.running_mean', 'layer3.1.bn2.running_var', 'layer3.1.bn2.num_batches_tracked', 'layer4.0.conv1.weight', 'layer4.0.bn1.weight', 'layer4.0.bn1.bias', 'layer4.0.bn1.running_mean', 'layer4.0.bn1.running_var', 'layer4.0.bn1.num_batches_tracked', 'layer4.0.conv2.weight', 'layer4.0.bn2.weight', 'layer4.0.bn2.bias', 'layer4.0.bn2.running_mean', 'layer4.0.bn2.running_var', 'layer4.0.bn2.num_batches_tracked', 'layer4.0.downsample.0.weight', 'layer4.0.downsample.1.weight', 'layer4.0.downsample.1.bias', 'layer4.0.downsample.1.running_mean', 'layer4.0.downsample.1.running_var', 'layer4.0.downsample.1.num_batches_tracked', 'layer4.1.conv1.weight', 'layer4.1.bn1.weight', 'layer4.1.bn1.bias', 'layer4.1.bn1.running_mean', 'layer4.1.bn1.running_var', 'layer4.1.bn1.num_batches_tracked', 'layer4.1.conv2.weight', 'layer4.1.bn2.weight', 'layer4.1.bn2.bias', 'layer4.1.bn2.running_mean', 'layer4.1.bn2.running_var', 'layer4.1.bn2.num_batches_tracked', 'fc.weight', 'fc.bias'])\n"
     ]
    }
   ],
   "source": [
    "state_dict = torch.load('cnn_model.pth')\n",
    "print(state_dict.keys())\n"
   ]
  },
  {
   "cell_type": "code",
   "execution_count": 59,
   "id": "f7c49963",
   "metadata": {},
   "outputs": [
    {
     "name": "stdout",
     "output_type": "stream",
     "text": [
      "Predicted output: -4.430375099182129\n"
     ]
    }
   ],
   "source": [
    "import torch\n",
    "from torchvision import models\n",
    "\n",
    "# Define the model architecture (ResNet18 in this case)\n",
    "model = models.resnet18(pretrained=False)\n",
    "\n",
    "# Modify the final fully connected layer to match the number of classes (e.g., 1 class)\n",
    "model.fc = torch.nn.Linear(model.fc.in_features, 1)\n",
    "\n",
    "# Load the trained model weights (state_dict)\n",
    "model.load_state_dict(torch.load('cnn_model.pth'))\n",
    "\n",
    "# Set the model to evaluation mode\n",
    "model.eval()\n",
    "\n",
    "# Preprocess the image\n",
    "from PIL import Image\n",
    "from torchvision import transforms\n",
    "\n",
    "def process_image(image_path):\n",
    "    image = Image.open(image_path)\n",
    "    \n",
    "    transform = transforms.Compose([\n",
    "        transforms.Resize((224, 224)),\n",
    "        transforms.ToTensor(),\n",
    "        transforms.Normalize(mean=[0.485, 0.456, 0.406], std=[0.229, 0.224, 0.225])\n",
    "    ])\n",
    "    \n",
    "    image = transform(image).unsqueeze(0)  # Add batch dimension\n",
    "    return image\n",
    "\n",
    "# Make a prediction\n",
    "image = process_image('img.jpeg')  # Replace with your image path\n",
    "# image = process_image('original.png')  # Replace with your image path\n",
    "with torch.no_grad():  # No need to track gradients during inference\n",
    "    output = model(image)\n",
    "\n",
    "# If it's a classification problem (1 class), we can directly output the prediction\n",
    "print(f'Predicted output: {output.item()}')\n"
   ]
  },
  {
   "cell_type": "code",
   "execution_count": 61,
   "id": "2e9cce84",
   "metadata": {},
   "outputs": [
    {
     "name": "stdout",
     "output_type": "stream",
     "text": [
      "Raw output: 2.531982898712158, Probability: 0.9263536930084229\n",
      "Predicted label: Real (Probability: 0.9263536930084229)\n"
     ]
    }
   ],
   "source": [
    "import torch\n",
    "\n",
    "# Function to predict \"Real\" or \"Fake\" based on raw model output\n",
    "def classify_output(output):\n",
    "    # Check the sign of the raw output\n",
    "    if output.item() >= 0:\n",
    "        label = 'Real'\n",
    "        probability = torch.sigmoid(output)  # Apply sigmoid for probability\n",
    "    else:\n",
    "        label = 'Fake'\n",
    "        probability = torch.sigmoid(output)  # Apply sigmoid for probability\n",
    "\n",
    "    # Debugging: print the output and the corresponding probability\n",
    "    print(f\"Raw output: {output.item()}, Probability: {probability.item()}\")\n",
    "    \n",
    "    return label, probability.item()\n",
    "\n",
    "# Example usage (replace with your model's raw output)\n",
    "raw_output = torch.tensor([2.531982898712158])  # Replace with your model's raw output\n",
    "\n",
    "# Call the function to get the prediction\n",
    "label, probability = classify_output(raw_output)\n",
    "\n",
    "# Print the result\n",
    "print(f'Predicted label: {label} (Probability: {probability})')\n"
   ]
  },
  {
   "cell_type": "code",
   "execution_count": 15,
   "id": "d04b7217",
   "metadata": {},
   "outputs": [],
   "source": [
    "def prediction():\n",
    "    import tkinter as tk\n",
    "    from tkinter import filedialog\n",
    "    from PIL import Image\n",
    "    import torch\n",
    "    from torchvision import models, transforms\n",
    "\n",
    "    # Function to select image and return its path\n",
    "    def select_image():\n",
    "        root = tk.Tk()\n",
    "        root.withdraw()  # Hide the root window\n",
    "        file_path = filedialog.askopenfilename(\n",
    "            title=\"Select an image\",\n",
    "            filetypes=[(\"Image Files\", \"*.png *.jpg *.jpeg *.bmp *.gif\")]\n",
    "        )\n",
    "        return file_path\n",
    "\n",
    "    # Function to preprocess image from its path\n",
    "    def transform_image(image_path):\n",
    "        image = Image.open(image_path).convert('RGB')\n",
    "        transform = transforms.Compose([\n",
    "            transforms.Resize((224, 224)),\n",
    "            transforms.ToTensor(),\n",
    "            transforms.Normalize(mean=[0.485, 0.456, 0.406],\n",
    "                                 std=[0.229, 0.224, 0.225])\n",
    "        ])\n",
    "        return transform(image).unsqueeze(0)  # Add batch dimension\n",
    "\n",
    "    # Function to classify the output\n",
    "    def classify_output(output):\n",
    "        prob = torch.sigmoid(output)\n",
    "        print(output.item())\n",
    "        label = 'Real' if output.item() >= 0 else 'Fake'\n",
    "        return label, prob.item()\n",
    "\n",
    "    # Load model\n",
    "    model = models.resnet18(pretrained=False)\n",
    "    model.fc = torch.nn.Linear(model.fc.in_features, 1)\n",
    "    model.load_state_dict(torch.load('cnn_model.pth', map_location=torch.device('cpu')))\n",
    "    model.eval()\n",
    "\n",
    "    # Select image and process it\n",
    "    image_path = select_image()\n",
    "    if not image_path:\n",
    "        print(\"No image selected.\")\n",
    "        return\n",
    "\n",
    "    input_tensor = transform_image(image_path)\n",
    "\n",
    "    # Make prediction\n",
    "    with torch.no_grad():\n",
    "        output = model(input_tensor)\n",
    "\n",
    "    # Interpret output\n",
    "    label, probability = classify_output(output)\n",
    "\n",
    "    # Print result\n",
    "    print(f'Predicted label: {label} (Probability: {probability})')\n",
    "\n"
   ]
  },
  {
   "cell_type": "code",
   "execution_count": 2,
   "id": "8d76aecc",
   "metadata": {},
   "outputs": [
    {
     "name": "stdout",
     "output_type": "stream",
     "text": [
      "Image selected: C:/Users/shiva/Pictures/DATASET/Train/Fake/0df0d345-583b630d92fe77ec452dfa74_pan_page-1_jpg.rf.0502d1976d83c6dd582e80b9896db953.jpg\n"
     ]
    }
   ],
   "source": [
    "import tkinter as tk\n",
    "from tkinter import filedialog\n",
    "from PIL import Image\n",
    "\n",
    "def process_image(image_path):\n",
    "    # Your custom function that does something with the image\n",
    "    print(\"Image selected:\", image_path)\n",
    "    image = Image.open(image_path)\n",
    "    image.show()  # Just shows the image for demonstration\n",
    "\n",
    "def select_image():\n",
    "    root = tk.Tk()\n",
    "    root.withdraw()  # Hide the main window\n",
    "    file_path = filedialog.askopenfilename(\n",
    "        title=\"Select an image\",\n",
    "        filetypes=[(\"Image Files\", \"*.png *.jpg *.jpeg *.bmp *.gif\")]\n",
    "    )\n",
    "    if file_path:\n",
    "        process_image(file_path)\n",
    "\n",
    "# Call this function to trigger the file dialog\n",
    "select_image()\n"
   ]
  },
  {
   "cell_type": "code",
   "execution_count": 27,
   "id": "8b1d3084",
   "metadata": {},
   "outputs": [
    {
     "name": "stdout",
     "output_type": "stream",
     "text": [
      "-2.3929286003112793\n",
      "Predicted label: Fake (Probability: 0.08371351659297943)\n"
     ]
    }
   ],
   "source": [
    "prediction()"
   ]
  }
 ],
 "metadata": {
  "kernelspec": {
   "display_name": "Python 3",
   "language": "python",
   "name": "python3"
  },
  "language_info": {
   "codemirror_mode": {
    "name": "ipython",
    "version": 3
   },
   "file_extension": ".py",
   "mimetype": "text/x-python",
   "name": "python",
   "nbconvert_exporter": "python",
   "pygments_lexer": "ipython3",
   "version": "3.10.0"
  }
 },
 "nbformat": 4,
 "nbformat_minor": 5
}
